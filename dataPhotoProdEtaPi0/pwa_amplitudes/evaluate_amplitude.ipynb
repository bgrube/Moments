{
 "cells": [
  {
   "cell_type": "code",
   "execution_count": 1,
   "metadata": {},
   "outputs": [
    {
     "name": "stdout",
     "output_type": "stream",
     "text": [
      "Welcome to JupyROOT 6.28/06\n",
      "atiSetup| node called python\n",
      "\n",
      "------------------------------------------------\n",
      "atiSetup| MPI is disabled\n",
      "atiSetup| GPU is disabled\n",
      "------------------------------------------------\n",
      "\n",
      "\n",
      "atiSetup| Loading library libIUAmpTools.so ............  ON\n",
      "atiSetup| Loading library libAmpTools.so ..............  ON\n",
      "atiSetup| Loading library libAmpPlotter.so ............  ON\n",
      "atiSetup| Loading library libAmpsDataIO.so ............  ON\n",
      "atiSetup| Loading library libFSRoot.so ................  OFF\n",
      "atiSetup| Loading library libAmpsGen.so ...............  OFF\n",
      "\n",
      "\n",
      "------------------------------------------------\n",
      "------------------------------------------------\n",
      "\n",
      "   =================================================================\n",
      "   |        ^                                                      |\n",
      "   |       / \\             Version:  v0.15.3-2-g0753-dirty         |\n",
      "   |      /---\\                                                    |\n",
      "   |     /     \\           GDouble:  8 bytes                       |\n",
      "   |    /       \\ MP           MPI:  NO                            |\n",
      "   |     -------               GPU:  NO                            |\n",
      "   |        |                                                      |\n",
      "   |        |              doi.org/10.5281/zenodo.5039377          |\n",
      "   |        | OOLS                                                 |\n",
      "   =================================================================\n"
     ]
    }
   ],
   "source": [
    "# import sys\n",
    "# sys.path.insert(0, '/w/halld-scshelf2101/lng/WORK/PyAmpTools/external/root/root-6.28.06-gcc9.3.0/lib')\n",
    "\n",
    "from pyamptools import atiSetup\n",
    "import numpy as np\n",
    "import pandas as pd\n",
    "\n",
    "atiSetup.setup(globals(), verbose=True)\n",
    "\n",
    "fr = \"/w/halld-scshelf2101/malte/final_fullWaveset/nominal_fullWaveset_ReflIndiv_150rnd/010020/etapi_result_samePhaseD.fit\"\n",
    "fr = FitResults(fr)"
   ]
  },
  {
   "cell_type": "code",
   "execution_count": 2,
   "metadata": {},
   "outputs": [],
   "source": [
    "ampAmpPars = dict(fr.ampParMap()) # masses, widths, phase offsets, piecewise bins\n",
    "ampScales = dict(fr.ampScaleParMap()) # scales between polarized datasets\n",
    "ampProdPars = dict(fr.ampProdParMap()) # production coefficients\n",
    "\n",
    "# Quick check to ensure constraints are correct\n",
    "for k,v in ampProdPars.items():\n",
    "    x = k.split(\"::\")\n",
    "    partTag = x[1][-2:]\n",
    "    conjPart = \"Re\" if partTag == \"Im\" else \"Im\"\n",
    "    x[1] = x[1][:-2] + conjPart\n",
    "    assert v == ampProdPars[\"::\".join(x)]\n",
    "    \n",
    "# Remove additional waves that are constrained\n",
    "ampProdPars = {k: v for k,v in ampProdPars.items() if k.split(\"::\")[1][-2:]==\"Re\"}\n",
    "\n",
    "# Scale production parameters (S and D), for scaling between polarized datasets\n",
    "ampScaledProdPars = { key: ampScales[key] * ampProdPars[key] for key in ampProdPars.keys() }\n",
    "\n",
    "# Ensure amplitude parameters and production parameters are disjoint\n",
    "assert len(set(ampAmpPars.keys()).intersection(set(ampScaledProdPars.keys()))) == 0\n",
    "\n",
    "# Merge amplitude and production parameters dictionaries\n",
    "allPars = {**ampAmpPars, **ampScaledProdPars}\n",
    "\n",
    "# Determine BW amplitude contributions\n",
    "massEdges = np.linspace(1.04, 1.72, 17+1)\n",
    "masses = 0.5 * (massEdges[1:] + massEdges[:-1])\n",
    "a2mass = allPars['a2mass']\n",
    "a2width = allPars['a2width']\n",
    "a2primemass = 1.698\n",
    "a2primewidth = 0.265\n",
    "a2_constructor = f\"{a2mass} {a2width} 2 0 1\".split()\n",
    "a2prime_constructor = f\"{a2primemass} {a2primewidth} 2 0 1\".split()\n",
    "pi0mass = 0.1349\n",
    "etamass = 0.5478\n",
    "\n",
    "a2bw = BreitWigner(a2_constructor)\n",
    "a2primebw = BreitWigner(a2prime_constructor)\n",
    "a2amps = np.array([a2bw.calcAmplitudeFromMasses(mass, pi0mass, etamass) for mass in masses])\n",
    "a2primeamps = np.array([a2primebw.calcAmplitudeFromMasses(mass, pi0mass, etamass) for mass in masses])\n",
    "\n",
    "# Rotate scaled production parameters by PhaseOffset amplitude and multiply BW mass dependence \n",
    "all_a2prime = [ key for key in allPars.keys() if \"::pD\" in key ]\n",
    "pos_a2prime = [ key for key in all_a2prime if key.endswith(\"+\") ]\n",
    "neg_a2prime = [ key for key in all_a2prime if key.endswith(\"-\") ]\n",
    "assert len(pos_a2prime) + len(neg_a2prime) == len(all_a2prime)\n",
    "all_a2 = [ key for key in allPars.keys() if \"::D\" in key ]\n",
    "pos_a2 = [ key for key in all_a2 if key.endswith(\"+\") ]\n",
    "neg_a2 = [ key for key in all_a2 if key.endswith(\"-\") ]\n",
    "assert len(pos_a2) + len(neg_a2) == len(all_a2)\n",
    "for key in pos_a2prime:\n",
    "    allPars[key] *= np.exp(1j * allPars['a2primePhasePos']) * a2primeamps\n",
    "for key in neg_a2prime:\n",
    "    allPars[key] *= np.exp(1j * allPars['a2primePhaseNeg']) * a2primeamps\n",
    "for key in pos_a2:\n",
    "    allPars[key] *= np.exp(1j * allPars['a2phasePos']) * a2amps\n",
    "for key in neg_a2:\n",
    "    allPars[key] *= np.exp(1j * allPars['a2phaseNeg']) * a2amps\n",
    "\n",
    "# Load S-wave piecewise mass dependence\n",
    "Samp = {\"S0+\": [], \"S0-\": []}\n",
    "for bin in range(len(masses)):\n",
    "    for refl in [\"Pos\", \"Neg\"]:\n",
    "        sign = \"+\" if refl == \"Pos\" else \"-\"\n",
    "        re = f\"pcwsBin_{bin}Re{refl}\"\n",
    "        im = f\"pcwsBin_{bin}Im{refl}\"\n",
    "        reAmp = allPars[re] if re in allPars else 0\n",
    "        imAmp = allPars[im] if im in allPars else 0\n",
    "        amp = reAmp + 1j * imAmp\n",
    "        Samp[f\"S0{sign}\"].append(amp)\n",
    "Samp = {k: np.array(v) for k,v in Samp.items()}\n",
    "\n",
    "# Multiply scaled S-wave production parameters by piecewise mass dependence\n",
    "pos_S = [ key for key in allPars if key.endswith(\"+\") and \"::S\" in key ]\n",
    "neg_S = [ key for key in allPars if key.endswith(\"-\") and \"::S\" in key ] \n",
    "for key in pos_S:\n",
    "    allPars[key] *= Samp[\"S0+\"]\n",
    "for key in neg_S:\n",
    "    allPars[key] *= Samp[\"S0-\"]\n",
    "\n",
    "# Recreate a simpler output dictionary\n",
    "output = {'mass': masses}\n",
    "allPars = {k: v for k,v in allPars.items() if all([x not in k for x in [\"parScale\", \"pcws\", \"phase\", \"Phase\", \"a2\"]])}\n",
    "output = {**output, **allPars}\n",
    "output = pd.DataFrame(output)\n",
    "\n",
    "# allPars[\"a2mass\"] = a2mass\n",
    "# allPars[\"a2width\"] = a2width\n",
    "# allPars[\"a2primemass\"] = a2primemass\n",
    "# allPars[\"a2primewidth\"] = a2primewidth\n",
    "\n",
    "output.to_csv(\"evaluate_amplitude.csv\")"
   ]
  },
  {
   "cell_type": "code",
   "execution_count": 3,
   "metadata": {},
   "outputs": [
    {
     "name": "stdout",
     "output_type": "stream",
     "text": [
      "a2mass: 1.31746677538279\n",
      "a2width: 0.133690729750447\n",
      "a2primemass: 1.698\n",
      "a2primewidth: 0.265\n"
     ]
    }
   ],
   "source": [
    "print(f\"a2mass: {a2mass}\")\n",
    "print(f\"a2width: {a2width}\")\n",
    "print(f\"a2primemass: {a2primemass}\")\n",
    "print(f\"a2primewidth: {a2primewidth}\")"
   ]
  },
  {
   "cell_type": "code",
   "execution_count": 4,
   "metadata": {},
   "outputs": [
    {
     "data": {
      "text/plain": [
       "array([ 0.85481265+0.13231771j,  1.03408178+0.21548686j,\n",
       "        1.26204412+0.35785136j,  1.55435365+0.620081j  ,\n",
       "        1.89435476+1.14433855j,  2.03617654+2.21287879j,\n",
       "        0.97592492+3.66520834j, -1.12672   +3.41751913j,\n",
       "       -1.82264259+2.06168085j, -1.68668355+1.19751789j,\n",
       "       -1.43207155+0.74920562j, -1.21118348+0.5048143j ,\n",
       "       -1.03713418+0.36053245j, -0.90094067+0.26915269j,\n",
       "       -0.79293614+0.20789917j, -0.70577382+0.16493658j,\n",
       "       -0.63421677+0.13368382j])"
      ]
     },
     "execution_count": 4,
     "metadata": {},
     "output_type": "execute_result"
    }
   ],
   "source": [
    "a2amps"
   ]
  },
  {
   "cell_type": "code",
   "execution_count": null,
   "metadata": {},
   "outputs": [],
   "source": []
  }
 ],
 "metadata": {
  "kernelspec": {
   "display_name": "Python 3 (ipykernel)",
   "language": "python",
   "name": "python3"
  },
  "language_info": {
   "codemirror_mode": {
    "name": "ipython",
    "version": 3
   },
   "file_extension": ".py",
   "mimetype": "text/x-python",
   "name": "python",
   "nbconvert_exporter": "python",
   "pygments_lexer": "ipython3",
   "version": "3.9.20"
  }
 },
 "nbformat": 4,
 "nbformat_minor": 4
}
